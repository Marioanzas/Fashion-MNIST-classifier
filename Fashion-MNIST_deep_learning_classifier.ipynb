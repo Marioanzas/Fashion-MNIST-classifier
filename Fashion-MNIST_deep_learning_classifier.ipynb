{
 "cells": [
  {
   "attachments": {},
   "cell_type": "markdown",
   "metadata": {},
   "source": [
    "# Using Deep Learning to classify the Fashion-MNIST dataset\n",
    "\n",
    "Neural networks have a tendency to perform *too well* on the training data and aren't able to generalize to data that hasn't been seen before. This is called **overfitting** and it impairs inference performance. To test for overfitting while training, we measure the performance on data not in the training set called the **validation** set. We avoid overfitting through regularization such as dropout while monitoring the validation performance during training. \n",
    "\n",
    "Let's start by loading the dataset through torchvision."
   ]
  },
  {
   "cell_type": "code",
   "execution_count": 2,
   "metadata": {},
   "outputs": [],
   "source": [
    "import torch\n",
    "from torch import nn, optim\n",
    "from torchvision import datasets, transforms\n",
    "\n",
    "# Define a transform to normalize the data\n",
    "transform = transforms.Compose([transforms.ToTensor(),\n",
    "                                transforms.Normalize((0.5,), (0.5,))])\n",
    "# Download and load the training data\n",
    "trainset = datasets.FashionMNIST('~/.pytorch/F_MNIST_data/', download=True, train=True, transform=transform)\n",
    "trainloader = torch.utils.data.DataLoader(trainset, batch_size=64, shuffle=True)\n",
    "\n",
    "# Download and load the test data\n",
    "testset = datasets.FashionMNIST('~/.pytorch/F_MNIST_data/', download=True, train=False, transform=transform)\n",
    "testloader = torch.utils.data.DataLoader(testset, batch_size=64, shuffle=True)"
   ]
  },
  {
   "attachments": {},
   "cell_type": "markdown",
   "metadata": {},
   "source": [
    "The most common method to reduce overfitting (outside of early-stopping) is *dropout*, where we randomly drop input units. \n",
    "\n",
    "During training we want to use dropout to prevent overfitting, but during inference we want to use the entire network. So, we need to turn off dropout during validation, testing, and whenever we're using the network to make predictions. To do this, you use `model.eval()`. This sets the model to evaluation mode where the dropout probability is 0. You can turn dropout back on by setting the model to train mode with `model.train()`."
   ]
  },
  {
   "cell_type": "code",
   "execution_count": 3,
   "metadata": {},
   "outputs": [],
   "source": [
    "# Define your classifier\n",
    "class Classifier(nn.Module):\n",
    "    def __init__(self):\n",
    "        super().__init__()\n",
    "        self.fc1 = nn.Linear(784, 256)\n",
    "        self.fc2 = nn.Linear(256, 128)\n",
    "        self.fc3 = nn.Linear(128, 64)\n",
    "        self.fc4 = nn.Linear(64, 10)\n",
    "        \n",
    "        # Dropout module with 0.2 drop probability\n",
    "        self.dropout = nn.Dropout(p=0.2)\n",
    "        \n",
    "    def forward(self, x):\n",
    "        # make sure input tensor is flattened\n",
    "        x = x.view(x.shape[0], -1)\n",
    "        \n",
    "        # Now with dropout\n",
    "        x = self.dropout(F.relu(self.fc1(x)))\n",
    "        x = self.dropout(F.relu(self.fc2(x)))\n",
    "        x = self.dropout(F.relu(self.fc3(x)))\n",
    "        \n",
    "        # output so no dropout here\n",
    "        x = F.log_softmax(self.fc4(x), dim=1)\n",
    "        \n",
    "        return x"
   ]
  },
  {
   "cell_type": "code",
   "execution_count": 32,
   "metadata": {},
   "outputs": [
    {
     "name": "stdout",
     "output_type": "stream",
     "text": [
      "Epoch: 1/50..  Training Loss: 0.610..  Test Loss: 0.499..  Test Accuracy: 0.824\n",
      "Epoch: 2/50..  Training Loss: 0.480..  Test Loss: 0.435..  Test Accuracy: 0.846\n",
      "Epoch: 3/50..  Training Loss: 0.445..  Test Loss: 0.427..  Test Accuracy: 0.848\n",
      "Epoch: 4/50..  Training Loss: 0.434..  Test Loss: 0.421..  Test Accuracy: 0.848\n",
      "Epoch: 5/50..  Training Loss: 0.424..  Test Loss: 0.395..  Test Accuracy: 0.862\n",
      "Epoch: 6/50..  Training Loss: 0.414..  Test Loss: 0.411..  Test Accuracy: 0.856\n",
      "Epoch: 7/50..  Training Loss: 0.401..  Test Loss: 0.409..  Test Accuracy: 0.859\n",
      "Epoch: 8/50..  Training Loss: 0.397..  Test Loss: 0.398..  Test Accuracy: 0.859\n",
      "Epoch: 9/50..  Training Loss: 0.393..  Test Loss: 0.381..  Test Accuracy: 0.864\n",
      "Epoch: 10/50..  Training Loss: 0.389..  Test Loss: 0.388..  Test Accuracy: 0.862\n",
      "Epoch: 11/50..  Training Loss: 0.384..  Test Loss: 0.400..  Test Accuracy: 0.862\n",
      "Epoch: 12/50..  Training Loss: 0.376..  Test Loss: 0.401..  Test Accuracy: 0.861\n",
      "Epoch: 13/50..  Training Loss: 0.373..  Test Loss: 0.384..  Test Accuracy: 0.868\n",
      "Epoch: 14/50..  Training Loss: 0.376..  Test Loss: 0.396..  Test Accuracy: 0.866\n",
      "Epoch: 15/50..  Training Loss: 0.369..  Test Loss: 0.400..  Test Accuracy: 0.859\n",
      "Epoch: 16/50..  Training Loss: 0.366..  Test Loss: 0.387..  Test Accuracy: 0.866\n",
      "Epoch: 17/50..  Training Loss: 0.362..  Test Loss: 0.385..  Test Accuracy: 0.868\n",
      "Epoch: 18/50..  Training Loss: 0.365..  Test Loss: 0.379..  Test Accuracy: 0.868\n",
      "Epoch: 19/50..  Training Loss: 0.362..  Test Loss: 0.381..  Test Accuracy: 0.870\n",
      "Epoch: 20/50..  Training Loss: 0.360..  Test Loss: 0.379..  Test Accuracy: 0.871\n",
      "Epoch: 21/50..  Training Loss: 0.352..  Test Loss: 0.381..  Test Accuracy: 0.870\n",
      "Epoch: 22/50..  Training Loss: 0.345..  Test Loss: 0.382..  Test Accuracy: 0.873\n",
      "Epoch: 23/50..  Training Loss: 0.349..  Test Loss: 0.391..  Test Accuracy: 0.874\n",
      "Epoch: 24/50..  Training Loss: 0.349..  Test Loss: 0.374..  Test Accuracy: 0.868\n",
      "Epoch: 25/50..  Training Loss: 0.354..  Test Loss: 0.356..  Test Accuracy: 0.868\n",
      "Epoch: 26/50..  Training Loss: 0.340..  Test Loss: 0.394..  Test Accuracy: 0.867\n",
      "Epoch: 27/50..  Training Loss: 0.343..  Test Loss: 0.390..  Test Accuracy: 0.868\n",
      "Epoch: 28/50..  Training Loss: 0.343..  Test Loss: 0.367..  Test Accuracy: 0.876\n",
      "Epoch: 29/50..  Training Loss: 0.339..  Test Loss: 0.381..  Test Accuracy: 0.870\n",
      "Epoch: 30/50..  Training Loss: 0.339..  Test Loss: 0.385..  Test Accuracy: 0.872\n",
      "Epoch: 31/50..  Training Loss: 0.337..  Test Loss: 0.399..  Test Accuracy: 0.867\n",
      "Epoch: 32/50..  Training Loss: 0.340..  Test Loss: 0.374..  Test Accuracy: 0.877\n",
      "Epoch: 33/50..  Training Loss: 0.333..  Test Loss: 0.373..  Test Accuracy: 0.877\n",
      "Epoch: 34/50..  Training Loss: 0.335..  Test Loss: 0.375..  Test Accuracy: 0.874\n",
      "Epoch: 35/50..  Training Loss: 0.331..  Test Loss: 0.394..  Test Accuracy: 0.874\n",
      "Epoch: 36/50..  Training Loss: 0.327..  Test Loss: 0.449..  Test Accuracy: 0.869\n",
      "Epoch: 37/50..  Training Loss: 0.327..  Test Loss: 0.360..  Test Accuracy: 0.874\n",
      "Epoch: 38/50..  Training Loss: 0.328..  Test Loss: 0.386..  Test Accuracy: 0.873\n",
      "Epoch: 39/50..  Training Loss: 0.333..  Test Loss: 0.382..  Test Accuracy: 0.875\n",
      "Epoch: 40/50..  Training Loss: 0.336..  Test Loss: 0.386..  Test Accuracy: 0.876\n",
      "Epoch: 41/50..  Training Loss: 0.323..  Test Loss: 0.372..  Test Accuracy: 0.877\n",
      "Epoch: 42/50..  Training Loss: 0.324..  Test Loss: 0.381..  Test Accuracy: 0.878\n",
      "Epoch: 43/50..  Training Loss: 0.318..  Test Loss: 0.394..  Test Accuracy: 0.874\n",
      "Epoch: 44/50..  Training Loss: 0.327..  Test Loss: 0.401..  Test Accuracy: 0.869\n",
      "Epoch: 45/50..  Training Loss: 0.326..  Test Loss: 0.387..  Test Accuracy: 0.877\n",
      "Epoch: 46/50..  Training Loss: 0.327..  Test Loss: 0.412..  Test Accuracy: 0.871\n",
      "Epoch: 47/50..  Training Loss: 0.316..  Test Loss: 0.374..  Test Accuracy: 0.876\n",
      "Epoch: 48/50..  Training Loss: 0.320..  Test Loss: 0.390..  Test Accuracy: 0.873\n",
      "Epoch: 49/50..  Training Loss: 0.313..  Test Loss: 0.408..  Test Accuracy: 0.867\n",
      "Epoch: 50/50..  Training Loss: 0.318..  Test Loss: 0.386..  Test Accuracy: 0.874\n"
     ]
    }
   ],
   "source": [
    "## Train your model with dropout, and monitor the training progress with the validation loss and accuracy\n",
    "model = Classifier()\n",
    "criterion = nn.NLLLoss()\n",
    "optimizer = optim.Adam(model.parameters(), lr=0.003)\n",
    "\n",
    "epochs = 50\n",
    "steps = 0\n",
    "\n",
    "train_losses, test_losses, accuracies = [], [], []  # Initialise the vectors containing the losses for each epoch\n",
    "for e in range(epochs):\n",
    "    running_loss = 0\n",
    "    for images, labels in trainloader:\n",
    "        \n",
    "        optimizer.zero_grad()\n",
    "        \n",
    "        log_ps = model(images)  # forward pass\n",
    "        loss = criterion(log_ps, labels)\n",
    "        loss.backward()\n",
    "        optimizer.step()\n",
    "        \n",
    "        running_loss += loss.item()\n",
    "        \n",
    "    else:\n",
    "        ## Implement the validation pass and print out the validation accuracy\n",
    "        test_loss = 0\n",
    "        accuracy = 0\n",
    "        with torch.no_grad():\n",
    "\n",
    "            # set model to evaluation mode\n",
    "            model.eval()\n",
    "\n",
    "            for images, labels in testloader:\n",
    "                log_ps = model(images)  # Get the log-probabilities\n",
    "                test_loss += criterion(log_ps, labels)\n",
    "                \n",
    "                ps = torch.exp(log_ps)    # Get the actual probabilities\n",
    "                top_p, top_class = ps.topk(1, dim=1)   # For each of the batches, get the class that has been predicted as most probable\n",
    "\n",
    "                # Check if the predicted classes match the labels. \"top_class\" and \"labels\" are of different shapes, so we use the view function to make them the same shape\n",
    "                equals = top_class == labels.view(*top_class.shape)\n",
    "                # Calculate the mean of the inferences vs. the labels in order to get the accuracy. This will be subsequently averaged out over all images in the test loader\n",
    "                accuracy += torch.mean(equals.type(torch.FloatTensor))\n",
    "\n",
    "        # set model back to train mode\n",
    "        model.train()\n",
    "                \n",
    "        # For each of the epochs, save all the losses and accuracies in a vector (averaged over all the images in each test set)\n",
    "        # These will be used for plotting later on\n",
    "        train_losses.append(running_loss/len(trainloader))\n",
    "        test_losses.append(test_loss/len(testloader))\n",
    "        accuracies.append(accuracy/len(testloader))\n",
    "        \n",
    "        print(\"Epoch: {}/{}.. \".format(e+1, epochs),\n",
    "              \"Training Loss: {:.3f}.. \".format(running_loss/len(trainloader)),\n",
    "              \"Test Loss: {:.3f}.. \".format(test_loss/len(testloader)),\n",
    "              \"Test Accuracy: {:.3f}\".format(accuracy/len(testloader)))"
   ]
  },
  {
   "attachments": {},
   "cell_type": "markdown",
   "metadata": {},
   "source": [
    "We can visualise the evolution of the losses and the accuracy. The testing loss is not as insightful because it is calculated while some input cells have been dropped out, hence is not 100% representative of the training performance."
   ]
  },
  {
   "cell_type": "code",
   "execution_count": 33,
   "metadata": {},
   "outputs": [
    {
     "data": {
      "text/plain": [
       "<matplotlib.legend.Legend at 0x253de1e4b80>"
      ]
     },
     "execution_count": 33,
     "metadata": {},
     "output_type": "execute_result"
    },
    {
     "data": {
      "image/png": "[encoded data removed]",
      "text/plain": [
       "<Figure size 432x288 with 1 Axes>"
      ]
     },
     "metadata": {
      "needs_background": "light"
     },
     "output_type": "display_data"
    },
    {
     "data": {
      "image/png": "[encoded data removed]",
      "text/plain": [
       "<Figure size 432x288 with 1 Axes>"
      ]
     },
     "metadata": {
      "needs_background": "light"
     },
     "output_type": "display_data"
    }
   ],
   "source": [
    "plt.figure()\n",
    "plt.plot(train_losses, label='Training loss')\n",
    "plt.plot(test_losses, label='Validation loss')\n",
    "plt.legend()\n",
    "\n",
    "plt.figure()\n",
    "plt.plot(accuracies, label='Accuracy')\n",
    "plt.legend()"
   ]
  },
  {
   "attachments": {},
   "cell_type": "markdown",
   "metadata": {},
   "source": [
    "It is also interesting to see that the training loss does not diverge too much from the training loss.\n",
    "\n",
    "Now, the model is trained and we can use it to make predictions on the test set."
   ]
  }
 ],
 "metadata": {
  "kernelspec": {
   "display_name": "base",
   "language": "python",
   "name": "python3"
  },
  "language_info": {
   "codemirror_mode": {
    "name": "ipython",
    "version": 3
   },
   "file_extension": ".py",
   "mimetype": "text/x-python",
   "name": "python",
   "nbconvert_exporter": "python",
   "pygments_lexer": "ipython3",
   "version": "3.8.8"
  },
  "vscode": {
   "interpreter": {
    "hash": "99b9ddafe010d894f648da1a95b05db74575d0963834166d33d49b3baf4451ff"
   }
  }
 },
 "nbformat": 4,
 "nbformat_minor": 2
}
